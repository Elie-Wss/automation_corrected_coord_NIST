{
 "cells": [
  {
   "cell_type": "code",
   "execution_count": 1,
   "metadata": {},
   "outputs": [],
   "source": [
    "from io_functions import read_chromato_and_chromato_cube"
   ]
  },
  {
   "cell_type": "code",
   "execution_count": 3,
   "metadata": {},
   "outputs": [
    {
     "name": "stdout",
     "output_type": "stream",
     "text": [
      "chromato read in 5.998235702514648 s\n",
      "full spectra computed in 131.77765798568726 s\n"
     ]
    },
    {
     "ename": "TypeError",
     "evalue": "cannot unpack non-iterable NoneType object",
     "output_type": "error",
     "traceback": [
      "\u001b[31m---------------------------------------------------------------------------\u001b[39m",
      "\u001b[31mTypeError\u001b[39m                                 Traceback (most recent call last)",
      "\u001b[36mCell\u001b[39m\u001b[36m \u001b[39m\u001b[32mIn[3]\u001b[39m\u001b[32m, line 2\u001b[39m\n\u001b[32m      1\u001b[39m sample_name = \u001b[33m\"\u001b[39m\u001b[33mG0-1-100123.cdf\u001b[39m\u001b[33m\"\u001b[39m\n\u001b[32m----> \u001b[39m\u001b[32m2\u001b[39m chromato, time_rn, chromato_cube, sigma, mass_range=\u001b[43mread_chromato_and_chromato_cube\u001b[49m\u001b[43m(\u001b[49m\u001b[33;43mf\u001b[39;49m\u001b[33;43m'\u001b[39;49m\u001b[33;43m/media/elie/Métabolomique/ELO_CDF/liquide-cdf-centroid/\u001b[39;49m\u001b[38;5;132;43;01m{\u001b[39;49;00m\u001b[43msample_name\u001b[49m\u001b[38;5;132;43;01m}\u001b[39;49;00m\u001b[33;43m'\u001b[39;49m\u001b[43m,\u001b[49m\u001b[43m \u001b[49m\u001b[43mmod_time\u001b[49m\u001b[43m=\u001b[49m\u001b[32;43m1.25\u001b[39;49m\u001b[43m,\u001b[49m\u001b[43m \u001b[49m\u001b[43mpre_process\u001b[49m\u001b[43m=\u001b[49m\u001b[38;5;28;43;01mFalse\u001b[39;49;00m\u001b[43m)\u001b[49m\n",
      "\u001b[36mFile \u001b[39m\u001b[32m~/Projects/Work/automation_corrected_coord_NIST/io_functions.py:38\u001b[39m, in \u001b[36mread_chromato_and_chromato_cube\u001b[39m\u001b[34m(filename, mod_time, pre_process)\u001b[39m\n\u001b[32m     35\u001b[39m \u001b[38;5;28mprint\u001b[39m(\u001b[33m\"\u001b[39m\u001b[33mfull spectra computed in\u001b[39m\u001b[33m\"\u001b[39m, time.time()-start_time, \u001b[33m\"\u001b[39m\u001b[33ms\u001b[39m\u001b[33m\"\u001b[39m)\n\u001b[32m     37\u001b[39m \u001b[38;5;66;03m# Compute chromatogram cube from full spectra\u001b[39;00m\n\u001b[32m---> \u001b[39m\u001b[32m38\u001b[39m chromato_cube = \u001b[43mfull_spectra_to_chromato_cube\u001b[49m\u001b[43m(\u001b[49m\u001b[43mfull_spectra\u001b[49m\u001b[43m,\u001b[49m\u001b[43m \u001b[49m\u001b[43mspectra_obj\u001b[49m\u001b[43m)\u001b[49m\n\u001b[32m     40\u001b[39m \u001b[38;5;66;03m# Baseline correction (if needed)\u001b[39;00m\n\u001b[32m     41\u001b[39m \u001b[38;5;28;01mif\u001b[39;00m pre_process:\n",
      "\u001b[36mFile \u001b[39m\u001b[32m~/Projects/Work/automation_corrected_coord_NIST/processing_functions.py:75\u001b[39m, in \u001b[36mfull_spectra_to_chromato_cube\u001b[39m\u001b[34m(full_spectra, spectra_obj, mass_range_min, mass_range_max)\u001b[39m\n\u001b[32m     52\u001b[39m \u001b[38;5;28;01mdef\u001b[39;00m\u001b[38;5;250m \u001b[39m\u001b[34mfull_spectra_to_chromato_cube\u001b[39m(full_spectra, spectra_obj, mass_range_min=\u001b[38;5;28;01mNone\u001b[39;00m, mass_range_max=\u001b[38;5;28;01mNone\u001b[39;00m):\n\u001b[32m     53\u001b[39m \u001b[38;5;250m    \u001b[39m\u001b[33mr\u001b[39m\u001b[33;03m\"\"\"Compute 3D chromatogram from mass spectra. Then it is possible to read specific mass spectrum from this 3D chromatogram or detect peaks in 3D.\u001b[39;00m\n\u001b[32m     54\u001b[39m \n\u001b[32m     55\u001b[39m \u001b[33;03m    Parameters\u001b[39;00m\n\u001b[32m   (...)\u001b[39m\u001b[32m     73\u001b[39m \u001b[33;03m    >>> chromato_cube = read_chroma.full_spectra_to_chromato_cube(full_spectra=full_spectra, spectra_obj=spectra_obj)\u001b[39;00m\n\u001b[32m     74\u001b[39m \u001b[33;03m    \"\"\"\u001b[39;00m\n\u001b[32m---> \u001b[39m\u001b[32m75\u001b[39m     spectra, debuts, fins = full_spectra\n\u001b[32m     76\u001b[39m     l1, l2, mv, iv, range_min, range_max = spectra_obj\n\u001b[32m     78\u001b[39m     \u001b[38;5;28;01mif\u001b[39;00m (\u001b[38;5;129;01mnot\u001b[39;00m mass_range_min):\n",
      "\u001b[31mTypeError\u001b[39m: cannot unpack non-iterable NoneType object"
     ]
    }
   ],
   "source": [
    "sample_name = \"G0-1-100123.cdf\"\n",
    "chromato, time_rn, chromato_cube, sigma, mass_range=read_chromato_and_chromato_cube(f'/media/elie/Métabolomique/ELO_CDF/liquide-cdf-centroid/{sample_name}', mod_time=1.25, pre_process=False)"
   ]
  }
 ],
 "metadata": {
  "kernelspec": {
   "display_name": "venv",
   "language": "python",
   "name": "python3"
  },
  "language_info": {
   "codemirror_mode": {
    "name": "ipython",
    "version": 3
   },
   "file_extension": ".py",
   "mimetype": "text/x-python",
   "name": "python",
   "nbconvert_exporter": "python",
   "pygments_lexer": "ipython3",
   "version": "3.12.3"
  }
 },
 "nbformat": 4,
 "nbformat_minor": 2
}
